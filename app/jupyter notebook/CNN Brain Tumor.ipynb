{
 "cells": [
  {
   "cell_type": "code",
   "execution_count": 1,
   "metadata": {},
   "outputs": [],
   "source": [
    "import numpy as np\n",
    "import tensorflow as tf\n",
    "import pandas as pd\n",
    "import matplotlib.pyplot as plt\n",
    "import matplotlib.image as mpimg\n",
    "from keras.preprocessing.image import ImageDataGenerator\n",
    "from tensorflow.keras.optimizers import RMSprop\n",
    "from keras.preprocessing import image\n",
    "%matplotlib inline"
   ]
  },
  {
   "cell_type": "code",
   "execution_count": 2,
   "metadata": {},
   "outputs": [],
   "source": [
    "model = tf.keras.models.Sequential([\n",
    "  \n",
    "    # Note the input shape is the desired size of the image 300x300 with 3 bytes color\n",
    "    # This is the first convolution\n",
    "    tf.keras.layers.Conv2D(16, (3,3), activation='relu', input_shape=(300, 300, 3)),\n",
    "    tf.keras.layers.MaxPooling2D(2, 2),\n",
    "  \n",
    "    # The second convolution\n",
    "    tf.keras.layers.Conv2D(32, (3,3), activation='relu'),\n",
    "    tf.keras.layers.MaxPooling2D(2,2),\n",
    "  \n",
    "    # The third convolution\n",
    "    tf.keras.layers.Conv2D(64, (3,3), activation='relu'),\n",
    "    tf.keras.layers.MaxPooling2D(2,2),\n",
    "  \n",
    "    # The fourth convolution\n",
    "    tf.keras.layers.Conv2D(64, (3,3), activation='relu'),\n",
    "    tf.keras.layers.MaxPooling2D(2,2),\n",
    "  \n",
    "    # The fifth convolution\n",
    "    tf.keras.layers.Conv2D(64, (3,3), activation='relu'),\n",
    "    tf.keras.layers.MaxPooling2D(2,2),\n",
    "    \n",
    "    # The sixth convolution\n",
    "    tf.keras.layers.Conv2D(64, (3,3), activation='relu'),\n",
    "    tf.keras.layers.MaxPooling2D(2,2),\n",
    "\n",
    "  \n",
    "    tf.keras.layers.Flatten(),\n",
    "    tf.keras.layers.Dense(512, activation='relu'), # 512 neuron hidden layer\n",
    "    # Only 1 output neuron. It will contain a value from 0-1 where 0 for ('normal') clas and 1 for ('pneumonia') class\n",
    "    tf.keras.layers.Dense(1, activation='sigmoid')\n",
    "])"
   ]
  },
  {
   "cell_type": "code",
   "execution_count": 3,
   "metadata": {},
   "outputs": [],
   "source": [
    "model.compile(loss='binary_crossentropy', optimizer=RMSprop(lr=0.001), metrics = ['accuracy'])"
   ]
  },
  {
   "cell_type": "code",
   "execution_count": 4,
   "metadata": {},
   "outputs": [],
   "source": [
    "train_datagen = ImageDataGenerator(rescale = 1/255)\n",
    "test_datagen = ImageDataGenerator(rescale = 1/255)"
   ]
  },
  {
   "cell_type": "code",
   "execution_count": 7,
   "metadata": {},
   "outputs": [
    {
     "name": "stdout",
     "output_type": "stream",
     "text": [
      "Found 176 images belonging to 2 classes.\n"
     ]
    }
   ],
   "source": [
    "train_generator = train_datagen.flow_from_directory(\n",
    "    'brain tumor/train/',\n",
    "    target_size = (300,300),\n",
    "    batch_size = 10,\n",
    "    class_mode = 'binary'\n",
    ")"
   ]
  },
  {
   "cell_type": "code",
   "execution_count": 9,
   "metadata": {},
   "outputs": [
    {
     "name": "stdout",
     "output_type": "stream",
     "text": [
      "Epoch 1/25\n",
      "10/10 [==============================] - 3s 287ms/step - loss: 0.4880 - accuracy: 0.7708\n",
      "Epoch 2/25\n",
      "10/10 [==============================] - 3s 305ms/step - loss: 0.5186 - accuracy: 0.7600\n",
      "Epoch 3/25\n",
      "10/10 [==============================] - 3s 327ms/step - loss: 0.4370 - accuracy: 0.8229\n",
      "Epoch 4/25\n",
      "10/10 [==============================] - 3s 293ms/step - loss: 0.4602 - accuracy: 0.8000\n",
      "Epoch 5/25\n",
      "10/10 [==============================] - 3s 281ms/step - loss: 0.4000 - accuracy: 0.8438\n",
      "Epoch 6/25\n",
      "10/10 [==============================] - 3s 272ms/step - loss: 0.3056 - accuracy: 0.8646\n",
      "Epoch 7/25\n",
      "10/10 [==============================] - 3s 303ms/step - loss: 0.3186 - accuracy: 0.8700\n",
      "Epoch 8/25\n",
      "10/10 [==============================] - 3s 290ms/step - loss: 0.2104 - accuracy: 0.9271\n",
      "Epoch 9/25\n",
      "10/10 [==============================] - 3s 302ms/step - loss: 0.2637 - accuracy: 0.9200\n",
      "Epoch 10/25\n",
      "10/10 [==============================] - 3s 309ms/step - loss: 0.2351 - accuracy: 0.9400\n",
      "Epoch 11/25\n",
      "10/10 [==============================] - 3s 345ms/step - loss: 0.2299 - accuracy: 0.9271\n",
      "Epoch 12/25\n",
      "10/10 [==============================] - 3s 324ms/step - loss: 0.2206 - accuracy: 0.9375\n",
      "Epoch 13/25\n",
      "10/10 [==============================] - 3s 319ms/step - loss: 0.1191 - accuracy: 0.9792\n",
      "Epoch 14/25\n",
      "10/10 [==============================] - 3s 316ms/step - loss: 0.0518 - accuracy: 0.9792\n",
      "Epoch 15/25\n",
      "10/10 [==============================] - 3s 317ms/step - loss: 0.2937 - accuracy: 0.8958\n",
      "Epoch 16/25\n",
      "10/10 [==============================] - 3s 347ms/step - loss: 0.1753 - accuracy: 0.9375\n",
      "Epoch 17/25\n",
      "10/10 [==============================] - 3s 317ms/step - loss: 0.0336 - accuracy: 0.9900\n",
      "Epoch 18/25\n",
      "10/10 [==============================] - 3s 300ms/step - loss: 0.1041 - accuracy: 0.9583\n",
      "Epoch 19/25\n",
      "10/10 [==============================] - 3s 292ms/step - loss: 0.0158 - accuracy: 1.0000\n",
      "Epoch 20/25\n",
      "10/10 [==============================] - 3s 300ms/step - loss: 0.1548 - accuracy: 0.9271\n",
      "Epoch 21/25\n",
      "10/10 [==============================] - 3s 328ms/step - loss: 0.1178 - accuracy: 0.9700\n",
      "Epoch 22/25\n",
      "10/10 [==============================] - 3s 321ms/step - loss: 0.0058 - accuracy: 1.0000\n",
      "Epoch 23/25\n",
      "10/10 [==============================] - 3s 299ms/step - loss: 0.0039 - accuracy: 1.0000\n",
      "Epoch 24/25\n",
      "10/10 [==============================] - 3s 330ms/step - loss: 0.1170 - accuracy: 0.9600\n",
      "Epoch 25/25\n",
      "10/10 [==============================] - 3s 322ms/step - loss: 0.1438 - accuracy: 0.9200\n"
     ]
    }
   ],
   "source": [
    "history = model.fit(\n",
    "    train_generator,\n",
    "    steps_per_epoch = 10,\n",
    "    epochs = 25\n",
    ")"
   ]
  },
  {
   "cell_type": "code",
   "execution_count": 10,
   "metadata": {},
   "outputs": [
    {
     "data": {
      "image/png": "[encoded data removed]",
      "text/plain": [
       "<Figure size 432x288 with 1 Axes>"
      ]
     },
     "metadata": {
      "needs_background": "light"
     },
     "output_type": "display_data"
    }
   ],
   "source": [
    "plt.plot(history.history['loss'])\n",
    "plt.title('model loss')\n",
    "plt.ylabel('loss')\n",
    "plt.xlabel('epoch')\n",
    "plt.legend(['train', 'test'], loc='upper left')\n",
    "plt.show()"
   ]
  },
  {
   "cell_type": "code",
   "execution_count": 12,
   "metadata": {},
   "outputs": [
    {
     "name": "stdout",
     "output_type": "stream",
     "text": [
      "Found 77 images belonging to 2 classes.\n"
     ]
    }
   ],
   "source": [
    "test_datagen = ImageDataGenerator(rescale = 1/255)\n",
    "\n",
    "test_generator = test_datagen.flow_from_directory(\n",
    "    'brain tumor/test/',\n",
    "    target_size = (300, 300),\n",
    "    batch_size = 10, \n",
    "    class_mode = 'binary'\n",
    ")"
   ]
  },
  {
   "cell_type": "code",
   "execution_count": 13,
   "metadata": {},
   "outputs": [
    {
     "name": "stdout",
     "output_type": "stream",
     "text": [
      "WARNING:tensorflow:From <ipython-input-13-b5187375bd84>:1: Model.evaluate_generator (from tensorflow.python.keras.engine.training) is deprecated and will be removed in a future version.\n",
      "Instructions for updating:\n",
      "Please use Model.evaluate, which supports generators.\n",
      "WARNING:tensorflow:Your input ran out of data; interrupting training. Make sure that your dataset or generator can generate at least `steps_per_epoch * epochs` batches (in this case, 77 batches). You may need to use the repeat() function when building your dataset.\n",
      "loss rate at evaluation data : 2.60017728805542\n",
      "accuracy rate at evaluation data : 0.7662337422370911\n"
     ]
    }
   ],
   "source": [
    "eval_result = model.evaluate_generator(test_generator, 77)\n",
    "print('loss rate at evaluation data :', eval_result[0])\n",
    "print('accuracy rate at evaluation data :', eval_result[1])"
   ]
  },
  {
   "cell_type": "code",
   "execution_count": 14,
   "metadata": {},
   "outputs": [
    {
     "name": "stdout",
     "output_type": "stream",
     "text": [
      "Saved model to disk\n"
     ]
    }
   ],
   "source": [
    "model_json = model.to_json()\n",
    "with open(\"braintumor_model.json\", \"w\") as json_file:\n",
    "    json_file.write(model_json)\n",
    "# serialize weights to HDF5\n",
    "model.save_weights(\"braintumor_model.h5\")\n",
    "print(\"Saved model to disk\")"
   ]
  }
 ],
 "metadata": {
  "kernelspec": {
   "display_name": "Python 3",
   "language": "python",
   "name": "python3"
  },
  "language_info": {
   "codemirror_mode": {
    "name": "ipython",
    "version": 3
   },
   "file_extension": ".py",
   "mimetype": "text/x-python",
   "name": "python",
   "nbconvert_exporter": "python",
   "pygments_lexer": "ipython3",
   "version": "3.6.0"
  }
 },
 "nbformat": 4,
 "nbformat_minor": 2
}
